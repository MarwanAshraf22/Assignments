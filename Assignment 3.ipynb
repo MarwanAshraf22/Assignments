{
 "cells": [
  {
   "cell_type": "markdown",
   "metadata": {},
   "source": [
    "# Assignment 3"
   ]
  },
  {
   "cell_type": "markdown",
   "metadata": {},
   "source": [
    "### Write a function to count the number 4 in a given list."
   ]
  },
  {
   "cell_type": "code",
   "execution_count": 1,
   "metadata": {},
   "outputs": [
    {
     "name": "stdout",
     "output_type": "stream",
     "text": [
      "Enter Numbers separated by a space : 4 4 4 3 4 3 2 \n",
      "4\n"
     ]
    }
   ],
   "source": [
    "def ListCount(List1) :\n",
    "    List=input(\"Enter Numbers separated by a space : \")\n",
    "    List1=List.split()\n",
    "    for i in range(len(List1)) :\n",
    "        List1[i] = float(List1[i])\n",
    "    count = 0\n",
    "    for i in range(len(List1)) :\n",
    "        if (List1[i] == 4) :\n",
    "            count = count+1\n",
    "    return count\n",
    "List1=[]\n",
    "print(ListCount([List1]))"
   ]
  },
  {
   "cell_type": "markdown",
   "metadata": {},
   "source": [
    "### write a  function to check whether a number is divisible by another number."
   ]
  },
  {
   "cell_type": "code",
   "execution_count": 3,
   "metadata": {},
   "outputs": [
    {
     "name": "stdout",
     "output_type": "stream",
     "text": [
      "Please enter first number : 5\n",
      "Please enter second number : 3\n",
      "The two numbers are not divisible\n",
      "None\n"
     ]
    }
   ],
   "source": [
    "def DivNo (x,y) :\n",
    "    if (x%y==0) :\n",
    "        print(\"The two numbers are divisible\")\n",
    "    else :\n",
    "        print(\"The two numbers are not divisible\")\n",
    "     \n",
    "x=float(input(\"Please enter first number : \"))\n",
    "y=float(input(\"Please enter second number : \"))\n",
    "print(DivNo(x,y))"
   ]
  },
  {
   "cell_type": "markdown",
   "metadata": {},
   "source": [
    "### write a function to find the maximum and minimum numbers from a sequence of numbers."
   ]
  },
  {
   "cell_type": "code",
   "execution_count": 4,
   "metadata": {},
   "outputs": [
    {
     "name": "stdout",
     "output_type": "stream",
     "text": [
      "Enter Number separated by a space : 3 4 5 7 10 2 1\n",
      "(10.0, 1.0)\n"
     ]
    }
   ],
   "source": [
    "def Max_Min(List1) :\n",
    "    List=input(\"Enter Number separated by a space : \")\n",
    "    List1=List.split()\n",
    "    for i in range(len(List1)) :\n",
    "        List1[i] = float(List1[i])\n",
    "    FirstNo = List1[0]\n",
    "    SecNo = List1[0]\n",
    "    for i in List1 :\n",
    "        if (i>FirstNo) :\n",
    "            FirstNo=i\n",
    "        elif (i<SecNo) :\n",
    "            SecNo=i\n",
    "    return FirstNo,SecNo\n",
    "List1=[]\n",
    "print(Max_Min([List1]))"
   ]
  },
  {
   "cell_type": "markdown",
   "metadata": {},
   "source": [
    "### Write a Python function that takes two lists and returns True if they have at least one common member."
   ]
  },
  {
   "cell_type": "code",
   "execution_count": 1,
   "metadata": {},
   "outputs": [
    {
     "name": "stdout",
     "output_type": "stream",
     "text": [
      "True\n",
      "None\n"
     ]
    }
   ],
   "source": [
    "def ListCompare (List1,List2) :\n",
    "    for x in List1 :\n",
    "        for y in List2 :\n",
    "            if (x==y) :\n",
    "                result = True\n",
    "                return result\n",
    "print(ListCompare([1,2,3,4,5],[6,7,8,9,5]))\n",
    "print(ListCompare([1,2,3,4,5],[6,7,8,9,10]))"
   ]
  },
  {
   "cell_type": "markdown",
   "metadata": {},
   "source": [
    "### Write a Python function to calculate the factorial of a number (a non-negative integer). The function accepts the number from the user"
   ]
  },
  {
   "cell_type": "code",
   "execution_count": 2,
   "metadata": {},
   "outputs": [
    {
     "name": "stdout",
     "output_type": "stream",
     "text": [
      "Enter positive number : 3\n",
      "Factorial is:  6\n"
     ]
    }
   ],
   "source": [
    "def factorial(n): \n",
    "    fact=1 \n",
    "    for i in range(1,n+1): \n",
    "        fact=fact*i \n",
    "    return fact \n",
    "  \n",
    "n=int(input(\"Enter positive number : \")) \n",
    "print('Factorial is: ',factorial(n))"
   ]
  },
  {
   "cell_type": "markdown",
   "metadata": {},
   "source": [
    "### Write a Python function to check whether a number is in a given range.\n",
    "\n",
    "### The range is from 3 to 11\n"
   ]
  },
  {
   "cell_type": "code",
   "execution_count": 11,
   "metadata": {},
   "outputs": [
    {
     "name": "stdout",
     "output_type": "stream",
     "text": [
      "Please enter the smallest number : 4\n",
      "Please enter the bigger number : 10\n",
      "Your numbers are in the range\n",
      "None\n"
     ]
    }
   ],
   "source": [
    "def Check(x,y) :\n",
    "        if(x>=3 and y<=11) :\n",
    "            print(\"Your numbers are in the range\")\n",
    "        else :\n",
    "            print(\"YOur number are not in the range\")\n",
    "            \n",
    "x=int(input(\"Please enter the smallest number : \"))\n",
    "y=int(input(\"Please enter the bigger number : \"))\n",
    "print(Check(x,y))\n",
    "    "
   ]
  },
  {
   "cell_type": "markdown",
   "metadata": {},
   "source": [
    "### Write a  program to create the multiplication table (from 1 to 10) of a number."
   ]
  },
  {
   "cell_type": "code",
   "execution_count": 6,
   "metadata": {},
   "outputs": [
    {
     "name": "stdout",
     "output_type": "stream",
     "text": [
      "Please enter a number : 3\n",
      "3 x 1 = 3\n",
      "3 x 2 = 6\n",
      "3 x 3 = 9\n",
      "3 x 4 = 12\n",
      "3 x 5 = 15\n",
      "3 x 6 = 18\n",
      "3 x 7 = 21\n",
      "3 x 8 = 24\n",
      "3 x 9 = 27\n",
      "3 x 10 = 30\n",
      "None\n"
     ]
    }
   ],
   "source": [
    "def MultTaple(x) :\n",
    "    for i in range (1,11) :\n",
    "        print(x,\"x\",i,\"=\",x*i)\n",
    "        \n",
    "x=int(input(\"Please enter a number : \"))\n",
    "print(MultTaple(x))"
   ]
  },
  {
   "cell_type": "markdown",
   "metadata": {},
   "source": [
    "#### LESSER OF TWO EVENS: Write a function that returns the lesser of two given numbers *if* both numbers are even, but returns the greater if one or both numbers are odd\n",
    "    lesser_of_two_evens(2,4) --> 2\n",
    "    lesser_of_two_evens(2,5) --> 5"
   ]
  },
  {
   "cell_type": "code",
   "execution_count": 7,
   "metadata": {},
   "outputs": [
    {
     "name": "stdout",
     "output_type": "stream",
     "text": [
      "Both numbers are even and the least number is :  2\n",
      "None\n",
      "There is an odd number and the greater number is :  5\n",
      "None\n"
     ]
    }
   ],
   "source": [
    "def Even(x,y) : \n",
    "    if(x%2==0 and y%2==0) :\n",
    "        if(x>y) :\n",
    "            print(\"Both numbers are even and the least number is : \",y)\n",
    "        elif(x<y) :\n",
    "            print(\"Both numbers are even and the least number is : \", x)\n",
    "        else :\n",
    "            print(\"The two numbers are equal\")\n",
    "    elif(x%2!=0 or y%2!=0) :\n",
    "        if(x>y) :\n",
    "            print(\"There is an odd number and the greater number is : \", x)\n",
    "        elif(y>x) :\n",
    "            print(\"There is an odd number and the greater number is : \", y)\n",
    "        else :\n",
    "            print(\"There is an odd number and the two numbers are equal\")\n",
    "print(Even(2,4))\n",
    "print(Even(2,5))"
   ]
  },
  {
   "cell_type": "markdown",
   "metadata": {},
   "source": [
    "#### ANIMAL CRACKERS: Write a function takes a two-word string and returns True if both words begin with same letter\n",
    "    animal_crackers('Levelheaded Llama') --> True\n",
    "    animal_crackers('Crazy Kangaroo') --> False"
   ]
  },
  {
   "cell_type": "code",
   "execution_count": 8,
   "metadata": {},
   "outputs": [
    {
     "name": "stdout",
     "output_type": "stream",
     "text": [
      "True\n",
      "False\n"
     ]
    }
   ],
   "source": [
    "def StringChecker (x) : \n",
    "    x1=(x.split())\n",
    "    if(x1[0][0]==x1[1][0]) :\n",
    "        return True\n",
    "    else :\n",
    "        return False \n",
    "print(StringChecker(\"Levelheaded Llama\"))  \n",
    "print(StringChecker(\"Crazy Kangaroo\")) \n"
   ]
  },
  {
   "cell_type": "markdown",
   "metadata": {},
   "source": [
    "#### MAKES TWENTY: Given two integers, return True if the sum of the integers is 20 *or* if one of the integers is 20. If not, return False\n",
    "\n",
    "    makes_twenty(20,10) --> True\n",
    "    makes_twenty(12,8) --> True\n",
    "    makes_twenty(2,3) --> False"
   ]
  },
  {
   "cell_type": "code",
   "execution_count": 9,
   "metadata": {},
   "outputs": [
    {
     "name": "stdout",
     "output_type": "stream",
     "text": [
      "True\n",
      "True\n",
      "False\n"
     ]
    }
   ],
   "source": [
    "def makes_twenty(x,y) :\n",
    "    if(x==20 or y==20) :\n",
    "        return True\n",
    "    elif(x+y==20) :\n",
    "        return True\n",
    "    else :\n",
    "        return False\n",
    "print(makes_twenty(20,10))\n",
    "print(makes_twenty(12,8))\n",
    "print(makes_twenty(2,3))\n"
   ]
  },
  {
   "cell_type": "markdown",
   "metadata": {},
   "source": [
    "#### BLACKJACK: Given three integers between 1 and 11, if their sum is less than or equal to 21, return their sum. If their sum exceeds 21 *and* there's an eleven, reduce the total sum by 10. Finally, if the sum  exceeds 21, return 'BUST'\n",
    "    blackjack(5,6,7) --> 18\n",
    "    blackjack(9,9,9) --> 'BUST'\n",
    "    blackjack(9,9,11) --> 19"
   ]
  },
  {
   "cell_type": "code",
   "execution_count": 10,
   "metadata": {},
   "outputs": [
    {
     "name": "stdout",
     "output_type": "stream",
     "text": [
      "18\n",
      "BUST\n",
      "19\n"
     ]
    }
   ],
   "source": [
    "def BlackJack (x,y,z) :\n",
    "    if(x+y+z<=21) :\n",
    "        return x+y+z\n",
    "    elif(x+y+z>21) :\n",
    "        if(x==11 or y==11 or z==11) :\n",
    "            return x+y+z-10\n",
    "        else :\n",
    "            return \"BUST\"\n",
    "\n",
    "print(BlackJack(5,6,7))\n",
    "print(BlackJack(9,9,9))\n",
    "print(BlackJack(9,9,11))"
   ]
  },
  {
   "cell_type": "code",
   "execution_count": null,
   "metadata": {},
   "outputs": [],
   "source": []
  }
 ],
 "metadata": {
  "kernelspec": {
   "display_name": "Python 3 (ipykernel)",
   "language": "python",
   "name": "python3"
  },
  "language_info": {
   "codemirror_mode": {
    "name": "ipython",
    "version": 3
   },
   "file_extension": ".py",
   "mimetype": "text/x-python",
   "name": "python",
   "nbconvert_exporter": "python",
   "pygments_lexer": "ipython3",
   "version": "3.9.12"
  }
 },
 "nbformat": 4,
 "nbformat_minor": 2
}
